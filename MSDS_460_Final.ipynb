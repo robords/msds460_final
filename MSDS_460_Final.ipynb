{
 "cells": [
  {
   "cell_type": "code",
   "execution_count": 54,
   "id": "d18a65b5",
   "metadata": {},
   "outputs": [],
   "source": [
    "from pulp import LpVariable, LpProblem, LpMaximize, LpStatus, value, LpMinimize, GLPK, lpSum"
   ]
  },
  {
   "cell_type": "markdown",
   "id": "1d4395e5",
   "metadata": {},
   "source": [
    "\n",
    "\n",
    "__Maximize__ $$–4x_1 + 2x_2$$\n",
    "__Subject To__\n",
    "$$4x_1 + x_2 + x_3 = 20$$\n",
    "$$2x_1 – x_2 ≥ 6$$\n",
    "$$x_1 – x_2 + 5x_3 ≥ –5$$\n",
    "$$–3x_1 + 2x_2 + x_3 ≤ 4$$ \n",
    "\n",
    "$$x_1 ≤ 0, x_2 ≥ 0, x_3\\text{ unrestricted}$$\n"
   ]
  },
  {
   "cell_type": "code",
   "execution_count": 133,
   "id": "54aef86b",
   "metadata": {},
   "outputs": [],
   "source": [
    "# Creates a list of the Ingredients\n",
    "periods = list(range(1,6))\n",
    "products = ['widgets', 'gadgets', 'flugels']\n",
    "ad_costs_list = [160, 120, 180]\n",
    "product_selling_price_list = [2490, 1990, 2970]\n",
    "\n",
    "ad_costs = dict(zip(products, ad_costs_list))\n",
    "product_selling_prices = dict(zip(products, product_selling_price_list))"
   ]
  },
  {
   "cell_type": "code",
   "execution_count": 135,
   "id": "db8be439",
   "metadata": {},
   "outputs": [],
   "source": [
    "# Final\n",
    "ads_variables = []\n",
    "demand_from_contracts_variables = []\n",
    "demand_from_ads_variables = []\n",
    "# define variables\n",
    "\n",
    "for period in periods:\n",
    "    for product in products:\n",
    "        demand_from_contracts_variables.append(f\"{product}_contracted_demand_in_p{period}\")\n",
    "        if period == 5:\n",
    "            pass\n",
    "        else:\n",
    "            ads_variables.append(f\"{product}_advertising_investment_p{period}\")\n",
    "        if period == 1:\n",
    "            pass\n",
    "        else:\n",
    "            demand_from_ads_variables.append(f\"{product}_demand_from_ads_p{period}\")"
   ]
  },
  {
   "cell_type": "code",
   "execution_count": 136,
   "id": "66da027d",
   "metadata": {},
   "outputs": [
    {
     "data": {
      "text/plain": [
       "['widgets_total_demand_in_p1',\n",
       " 'gadgets_total_demand_in_p1',\n",
       " 'flugels_total_demand_in_p1',\n",
       " 'widgets_total_demand_in_p2',\n",
       " 'widgets_total_demand_in_p1',\n",
       " 'gadgets_total_demand_in_p1',\n",
       " 'flugels_total_demand_in_p1',\n",
       " 'widgets_total_demand_in_p2',\n",
       " 'gadgets_total_demand_in_p2',\n",
       " 'flugels_total_demand_in_p2',\n",
       " 'widgets_total_demand_in_p3',\n",
       " 'gadgets_total_demand_in_p3',\n",
       " 'flugels_total_demand_in_p3',\n",
       " 'widgets_total_demand_in_p4',\n",
       " 'gadgets_total_demand_in_p4',\n",
       " 'flugels_total_demand_in_p4',\n",
       " 'widgets_total_demand_in_p5',\n",
       " 'gadgets_total_demand_in_p5',\n",
       " 'flugels_total_demand_in_p5']"
      ]
     },
     "execution_count": 136,
     "metadata": {},
     "output_type": "execute_result"
    }
   ],
   "source": [
    "demand_variables"
   ]
  },
  {
   "cell_type": "code",
   "execution_count": 137,
   "id": "9deedba2",
   "metadata": {},
   "outputs": [],
   "source": [
    "# A dictionary called 'ingredient_vars' is created to contain the referenced Variables\n",
    "advertising_vars = LpVariable.dicts(\"\", ads_variables, 0)\n",
    "demand_from_contracts_vars = LpVariable.dicts(\"\", demand_from_contracts_variables, 0)\n",
    "demand_from_ads_vars = LpVariable.dicts(\"\", demand_from_ads_variables, 0)\n",
    "    \n",
    "    \n",
    "# defines the problem\n",
    "nu_industries = LpProblem(\"NU Industries\", LpMaximize)"
   ]
  },
  {
   "cell_type": "markdown",
   "id": "16c259a1",
   "metadata": {},
   "source": [
    "## Objective"
   ]
  },
  {
   "attachments": {},
   "cell_type": "markdown",
   "id": "1b2d9714",
   "metadata": {},
   "source": [
    "Throughout the planning horizon, NU Industries will sell: \n",
    "* Widgets for \\\\$2490 \n",
    "* Gadgets for \\\\$1990 \n",
    "* Flugels for \\\\$2970. \n",
    "\n",
    "The products can be manufactured at either of NU's Manufacturing Plants.\n"
   ]
  },
  {
   "cell_type": "code",
   "execution_count": 138,
   "id": "ec27c114",
   "metadata": {},
   "outputs": [],
   "source": [
    "## Objective\n",
    "nu_industries += (\n",
    "    ## This is demand from ads times the product selling price\n",
    "    lpSum([product_selling_prices[product] * demand_from_ads_vars[f'{product}_demand_from_ads_p{period}'] for product \n",
    "           in products for period in periods if period != 1]) +  \n",
    "    ## This is contracted demand\n",
    "    lpSum([product_selling_prices[product] * demand_from_contracts_vars[f'{product}_contracted_demand_in_p{period}'] for product \n",
    "           in products for period in periods]) -\n",
    "    ## This is the cost of ads\n",
    "    lpSum([ad_costs[product] * advertising_vars[f'{product}_advertising_investment_p{period}'] for product \n",
    "           in products for period in periods if period != 5]),\n",
    "    'Maximize Profits'\n",
    ")"
   ]
  },
  {
   "cell_type": "markdown",
   "id": "cc4033d3",
   "metadata": {},
   "source": [
    "# Define Constraints"
   ]
  },
  {
   "cell_type": "markdown",
   "id": "2a560ed4",
   "metadata": {},
   "source": [
    "Production Requirements:    \n",
    "This is demand in a given period that we are already contracted to sell\n",
    "\n",
    "|Product|Period 1|Period 2|Period 3|Period 4|Period 5|\n",
    "|-------|--------|--------|--------|--------|--------|\n",
    "|Widgets|70      |125     |185     |190     |200     |\n",
    "|Gadgets|200     |300     |295     |245     |240     |\n",
    "|Flugels|140     |175     |205     |235     |230     |"
   ]
  },
  {
   "cell_type": "code",
   "execution_count": 139,
   "id": "67c3c60f",
   "metadata": {},
   "outputs": [],
   "source": [
    "# Define Production Requirement Dictionary\n",
    "production_contractual_requirements_list = [70, 200, 140, 125, 300, 175, 185, 295, 205, 190, 245, 235, 200, 240, 230]\n",
    "production_contractual_requirements = dict(zip([f\"p_{period}_{product}_requirement\" for period \n",
    "                                                in periods for product in products], \n",
    "                                               production_contractual_requirements_list))\n"
   ]
  },
  {
   "cell_type": "code",
   "execution_count": 140,
   "id": "56a6431e",
   "metadata": {},
   "outputs": [],
   "source": [
    "# Production Requirements - total demand must exceed our contracted production requirements\n",
    "for period in periods:\n",
    "    for product in products:\n",
    "        nu_industries += (demand_from_contracts_vars[f'{product}_contracted_demand_in_p{period}']\n",
    "                          >= production_contractual_requirements[f'p_{period}_{product}_requirement'], \n",
    "                          f\"{product}_required_in_p{period}\")\n"
   ]
  },
  {
   "cell_type": "markdown",
   "id": "f7aa3f68",
   "metadata": {},
   "source": [
    "Marketing & Forecasting Department anticipates that NU Industries can cultivate additional demand within the distribution area through effective advertising. The M&F Department projects that each \\\\$160 invested in advertising Widgets in a particular period creates additional demand for one Widget in the next period. The corresponding values for Gadgets and Flugels are \\\\$120 and \\\\$180, respectively. However, the total advertising budget is limited to \\\\$70,000 for the entire planning horizon."
   ]
  },
  {
   "cell_type": "code",
   "execution_count": 141,
   "id": "097324fb",
   "metadata": {},
   "outputs": [],
   "source": [
    "# Advertising Budget\n",
    "nu_industries += (lpSum([advertising_vars[f'{product}_advertising_investment_p{period}'] for product \n",
    "                         in products for period in periods if period != 5]) <= 70000,\n",
    "                  \"Advertising_Budget\")"
   ]
  },
  {
   "cell_type": "code",
   "execution_count": 146,
   "id": "182c0d4e",
   "metadata": {},
   "outputs": [],
   "source": [
    "# Additional Demand from Advertising\n",
    "for period in periods:\n",
    "    for product in products:\n",
    "        if period == 1:\n",
    "            pass\n",
    "        else:\n",
    "            nu_industries += (demand_from_ads_vars[f'{product}_demand_from_ads_p{period}'] * ad_costs[product] == \n",
    "                              advertising_vars[f'{product}_advertising_investment_p{period-1}'],\n",
    "                              f\"{product}_Demand_from_Ads_in_p{period}\")"
   ]
  },
  {
   "cell_type": "code",
   "execution_count": 147,
   "id": "b7b8570c",
   "metadata": {},
   "outputs": [
    {
     "data": {
      "text/plain": [
       "[_flugels_advertising_investment_p1,\n",
       " _flugels_advertising_investment_p2,\n",
       " _flugels_advertising_investment_p3,\n",
       " _flugels_advertising_investment_p4,\n",
       " _flugels_contracted_demand_in_p1,\n",
       " _flugels_contracted_demand_in_p2,\n",
       " _flugels_contracted_demand_in_p3,\n",
       " _flugels_contracted_demand_in_p4,\n",
       " _flugels_contracted_demand_in_p5,\n",
       " _flugels_demand_from_ads_p2,\n",
       " _flugels_demand_from_ads_p3,\n",
       " _flugels_demand_from_ads_p4,\n",
       " _flugels_demand_from_ads_p5,\n",
       " _gadgets_advertising_investment_p1,\n",
       " _gadgets_advertising_investment_p2,\n",
       " _gadgets_advertising_investment_p3,\n",
       " _gadgets_advertising_investment_p4,\n",
       " _gadgets_contracted_demand_in_p1,\n",
       " _gadgets_contracted_demand_in_p2,\n",
       " _gadgets_contracted_demand_in_p3,\n",
       " _gadgets_contracted_demand_in_p4,\n",
       " _gadgets_contracted_demand_in_p5,\n",
       " _gadgets_demand_from_ads_p2,\n",
       " _gadgets_demand_from_ads_p3,\n",
       " _gadgets_demand_from_ads_p4,\n",
       " _gadgets_demand_from_ads_p5,\n",
       " _widgets_advertising_investment_p1,\n",
       " _widgets_advertising_investment_p2,\n",
       " _widgets_advertising_investment_p3,\n",
       " _widgets_advertising_investment_p4,\n",
       " _widgets_contracted_demand_in_p1,\n",
       " _widgets_contracted_demand_in_p2,\n",
       " _widgets_contracted_demand_in_p3,\n",
       " _widgets_contracted_demand_in_p4,\n",
       " _widgets_contracted_demand_in_p5,\n",
       " _widgets_demand_from_ads_p2,\n",
       " _widgets_demand_from_ads_p3,\n",
       " _widgets_demand_from_ads_p4,\n",
       " _widgets_demand_from_ads_p5]"
      ]
     },
     "execution_count": 147,
     "metadata": {},
     "output_type": "execute_result"
    }
   ],
   "source": [
    "# The problem data is written to an .lp file\n",
    "nu_industries.writeLP(\"NU_Industries.lp\")"
   ]
  },
  {
   "cell_type": "code",
   "execution_count": null,
   "id": "19104194",
   "metadata": {},
   "outputs": [],
   "source": []
  }
 ],
 "metadata": {
  "kernelspec": {
   "display_name": "Python 3 (ipykernel)",
   "language": "python",
   "name": "python3"
  },
  "language_info": {
   "codemirror_mode": {
    "name": "ipython",
    "version": 3
   },
   "file_extension": ".py",
   "mimetype": "text/x-python",
   "name": "python",
   "nbconvert_exporter": "python",
   "pygments_lexer": "ipython3",
   "version": "3.9.6"
  }
 },
 "nbformat": 4,
 "nbformat_minor": 5
}
