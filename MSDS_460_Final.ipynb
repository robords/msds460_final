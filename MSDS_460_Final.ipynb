{
 "cells": [
  {
   "cell_type": "code",
   "execution_count": 1,
   "id": "1ac3c203",
   "metadata": {},
   "outputs": [],
   "source": [
    "from pulp import LpVariable, LpProblem, LpMaximize, LpStatus, value, LpMinimize, GLPK, lpSum"
   ]
  },
  {
   "cell_type": "code",
   "execution_count": 2,
   "id": "e25316e5",
   "metadata": {},
   "outputs": [],
   "source": [
    "# Creates dictionaries of products and their materials, labor, selling price, advertising costs, etc\n",
    "periods = list(range(1,6))\n",
    "products = ['widgets', 'gadgets', 'flugels']\n",
    "ad_costs_list = [160, 120, 180]\n",
    "product_selling_price_list = [2490, 1990, 2970]\n",
    "plant_a_rm_1_requirements_list = [194, 230, 178]\n",
    "plant_a_rm_2_requirements_list = [8.6, 0, 11.6]\n",
    "plant_b_rm_1_requirements_list = [188, 225, 170]\n",
    "plant_b_rm_2_requirements_list = [9.2, 0, 10.8]\n",
    "plant_a_labor_requirements_list = [9.5, 7.1, 11.1]\n",
    "plant_b_labor_requirements_list = [9.1, 7.8, 10.6]\n",
    "\n",
    "ad_costs = dict(zip(products, ad_costs_list))\n",
    "product_selling_prices = dict(zip(products, product_selling_price_list))\n",
    "plant_a_rm_1_requirements = dict(zip(products, plant_a_rm_1_requirements_list))\n",
    "plant_a_rm_2_requirements = dict(zip(products, plant_a_rm_2_requirements_list))\n",
    "plant_b_rm_1_requirements = dict(zip(products, plant_b_rm_1_requirements_list))\n",
    "plant_b_rm_2_requirements = dict(zip(products, plant_b_rm_2_requirements_list))\n",
    "plant_a_labor_requirements = dict(zip(products, plant_a_labor_requirements_list))\n",
    "plant_b_labor_requirements = dict(zip(products, plant_b_labor_requirements_list))"
   ]
  },
  {
   "cell_type": "code",
   "execution_count": 3,
   "id": "17459b4a",
   "metadata": {},
   "outputs": [],
   "source": [
    "# define variables\n",
    "ads_variables = []\n",
    "production_variables = []\n",
    "demand_from_contracts_variables = []\n",
    "demand_from_ads_variables = []\n",
    "raw_material_1_to_buy_for_plant_a_variables = []\n",
    "raw_material_1_to_buy_for_plant_b_variables = []\n",
    "raw_material_2_to_buy_for_plant_a_variables = []\n",
    "raw_material_2_to_buy_for_plant_b_variables = []\n",
    "inventory_plant_a = []\n",
    "inventory_plant_b = []\n",
    "labor_variables_in_plant_a = []\n",
    "labor_variables_in_plant_b = []\n",
    "\n",
    "for period in periods:\n",
    "    raw_material_1_to_buy_for_plant_a_variables.append(f\"rm_1_for_plant_a_in_p{period}\")\n",
    "    raw_material_1_to_buy_for_plant_b_variables.append(f\"rm_1_for_plant_b_in_p{period}\")\n",
    "    raw_material_2_to_buy_for_plant_a_variables.append(f\"rm_2_for_plant_a_in_p{period}\")\n",
    "    raw_material_2_to_buy_for_plant_b_variables.append(f\"rm_2_for_plant_b_in_p{period}\")\n",
    "    for product in products:\n",
    "        demand_from_contracts_variables.append(f\"{product}_contracted_demand_in_p{period}\")\n",
    "        production_variables.append(f\"{product}_produced_in_plant_a_in_p{period}\")\n",
    "        production_variables.append(f\"{product}_produced_in_plant_b_in_p{period}\")\n",
    "        inventory_plant_a.append(f\"{product}_inventoried_in_plant_a_in_p{period}\")\n",
    "        inventory_plant_b.append(f\"{product}_inventoried_in_plant_b_in_p{period}\")\n",
    "        if period != 5:\n",
    "            ads_variables.append(f\"{product}_advertising_investment_p{period}\")\n",
    "        if period != 1:\n",
    "            demand_from_ads_variables.append(f\"{product}_demand_from_ads_p{period}\")"
   ]
  },
  {
   "cell_type": "code",
   "execution_count": 4,
   "id": "f9a1905c",
   "metadata": {},
   "outputs": [
    {
     "name": "stderr",
     "output_type": "stream",
     "text": [
      "/Users/robords/.venv/msds460_final/lib/python3.9/site-packages/pulp/pulp.py:1352: UserWarning: Spaces are not permitted in the name. Converted to '_'\n",
      "  warnings.warn(\"Spaces are not permitted in the name. Converted to '_'\")\n"
     ]
    }
   ],
   "source": [
    "# Create dictionaries to store the referenced Variables\n",
    "advertising_vars = LpVariable.dicts(\"\", ads_variables, 0)\n",
    "production_variables = LpVariable.dicts(\"\", production_variables, 0)\n",
    "demand_from_contracts_vars = LpVariable.dicts(\"\", demand_from_contracts_variables, 0)\n",
    "demand_from_ads_vars = LpVariable.dicts(\"\", demand_from_ads_variables, 0)\n",
    "inventory_plant_a_vars = LpVariable.dicts(\"\", inventory_plant_a, 0)\n",
    "inventory_plant_b_vars = LpVariable.dicts(\"\", inventory_plant_b, 0)\n",
    "labor_in_plant_a_vars = LpVariable.dicts(\"\", labor_variables_in_plant_a, 0)\n",
    "labor_in_plant_b_vars = LpVariable.dicts(\"\", labor_variables_in_plant_b, 0)\n",
    "rm_1_to_buy_for_plant_a_vars = LpVariable.dicts(\"\", raw_material_1_to_buy_for_plant_a_variables, 0)\n",
    "rm_1_to_buy_for_plant_b_vars = LpVariable.dicts(\"\", raw_material_1_to_buy_for_plant_b_variables, 0)\n",
    "rm_2_to_buy_for_plant_a_vars = LpVariable.dicts(\"\", raw_material_2_to_buy_for_plant_a_variables, 0)\n",
    "rm_2_to_buy_for_plant_b_vars = LpVariable.dicts(\"\", raw_material_2_to_buy_for_plant_b_variables, 0)\n",
    "    \n",
    "    \n",
    "# defines the problem\n",
    "nu_industries = LpProblem(\"NU Industries\", LpMaximize)"
   ]
  },
  {
   "cell_type": "markdown",
   "id": "972b44aa",
   "metadata": {},
   "source": [
    "## Objective"
   ]
  },
  {
   "attachments": {},
   "cell_type": "markdown",
   "id": "ac64c906",
   "metadata": {},
   "source": [
    "Throughout the planning horizon, NU Industries will sell: \n",
    "* Widgets for \\\\$2490 \n",
    "* Gadgets for \\\\$1990 \n",
    "* Flugels for \\\\$2970. \n",
    "\n",
    "The products can be manufactured at either of NU's Manufacturing Plants.\n"
   ]
  },
  {
   "cell_type": "code",
   "execution_count": 5,
   "id": "085a55b2",
   "metadata": {},
   "outputs": [],
   "source": [
    "## Objective\n",
    "nu_industries += (\n",
    "    ## This is demand from ads times the product selling price\n",
    "    lpSum([product_selling_prices[product] * demand_from_ads_vars[f'{product}_demand_from_ads_p{period}'] for product \n",
    "           in products for period in periods if period != 1]) +  \n",
    "    ## This is contracted demand\n",
    "    lpSum([product_selling_prices[product] * demand_from_contracts_vars[f'{product}_contracted_demand_in_p{period}'] for product \n",
    "           in products for period in periods]) -\n",
    "    ## This is the cost of ads\n",
    "    lpSum([ad_costs[product] * advertising_vars[f'{product}_advertising_investment_p{period}'] for product \n",
    "           in products for period in periods if period != 5])\n",
    "    ,'Maximize Profits'\n",
    ")"
   ]
  },
  {
   "cell_type": "markdown",
   "id": "9bbb65bf",
   "metadata": {},
   "source": [
    "# Define Constraints"
   ]
  },
  {
   "cell_type": "markdown",
   "id": "f06c2bde",
   "metadata": {},
   "source": [
    "### Contractual Production Requirements:    \n",
    "This is demand in a given period that we are already contracted to sell\n",
    "\n",
    "|Product|Period 1|Period 2|Period 3|Period 4|Period 5|\n",
    "|-------|--------|--------|--------|--------|--------|\n",
    "|Widgets|70      |125     |185     |190     |200     |\n",
    "|Gadgets|200     |300     |295     |245     |240     |\n",
    "|Flugels|140     |175     |205     |235     |230     |"
   ]
  },
  {
   "cell_type": "code",
   "execution_count": 6,
   "id": "dea51fac",
   "metadata": {},
   "outputs": [],
   "source": [
    "# Define Production Requirement Dictionary\n",
    "production_contractual_requirements_list = [70, 200, 140, 125, 300, 175, 185, 295, 205, 190, 245, 235, 200, 240, 230]\n",
    "production_contractual_requirements = dict(zip([f\"p_{period}_{product}_requirement\" for period \n",
    "                                                in periods for product in products], \n",
    "                                               production_contractual_requirements_list))\n"
   ]
  },
  {
   "cell_type": "code",
   "execution_count": 7,
   "id": "cbe85661",
   "metadata": {},
   "outputs": [],
   "source": [
    "# Production Requirements - demand must exceed our contracted production requirements\n",
    "for period in periods:\n",
    "    for product in products:\n",
    "        nu_industries += (demand_from_contracts_vars[f'{product}_contracted_demand_in_p{period}']\n",
    "                          >= production_contractual_requirements[f'p_{period}_{product}_requirement'], \n",
    "                          f\"{product}_required_in_p{period}\")\n"
   ]
  },
  {
   "cell_type": "markdown",
   "id": "adf5f1d0",
   "metadata": {},
   "source": [
    "### Advertising\n",
    "\n",
    "Marketing & Forecasting Department anticipates that NU Industries can cultivate additional demand within the distribution area through effective advertising. The M&F Department projects that each \\\\$160 invested in advertising Widgets in a particular period creates additional demand for one Widget in the next period. The corresponding values for Gadgets and Flugels are \\\\$120 and \\\\$180, respectively. However, the total advertising budget is limited to \\\\$70,000 for the entire planning horizon."
   ]
  },
  {
   "cell_type": "code",
   "execution_count": 8,
   "id": "53c18f07",
   "metadata": {},
   "outputs": [],
   "source": [
    "# Advertising Budget\n",
    "nu_industries += (lpSum([advertising_vars[f'{product}_advertising_investment_p{period}'] for product \n",
    "                         in products for period in periods if period != 5]) <= 70000,\n",
    "                  \"Advertising_Budget\")"
   ]
  },
  {
   "cell_type": "code",
   "execution_count": 9,
   "id": "df7642a2",
   "metadata": {},
   "outputs": [],
   "source": [
    "# Additional Demand from Advertising\n",
    "for period in periods:\n",
    "    for product in products:\n",
    "        if period == 1:\n",
    "            pass\n",
    "        else:\n",
    "            nu_industries += (demand_from_ads_vars[f'{product}_demand_from_ads_p{period}'] * ad_costs[product] == \n",
    "                              advertising_vars[f'{product}_advertising_investment_p{period-1}'],\n",
    "                              f\"{product}_Demand_from_Ads_in_p{period}\")"
   ]
  },
  {
   "attachments": {},
   "cell_type": "markdown",
   "id": "a8b95b81",
   "metadata": {},
   "source": [
    "### Production Requirements\n",
    "\n",
    "Demand must be less than or equal to inventory from the previous period + production in that same period\n"
   ]
  },
  {
   "cell_type": "code",
   "execution_count": 10,
   "id": "6faf37c9",
   "metadata": {},
   "outputs": [],
   "source": [
    "for period in periods:\n",
    "    for product in products:\n",
    "        if period == 1:\n",
    "            # no inventory in this period, and no demand from ads\n",
    "            nu_industries += (demand_from_contracts_vars[f'{product}_contracted_demand_in_p{period}'] <=\n",
    "                              production_variables[f\"{product}_produced_in_plant_a_in_p{period}\"] + \n",
    "                              production_variables[f\"{product}_produced_in_plant_b_in_p{period}\"],\n",
    "                             f\"{product}_production_requirements_in_p{period}\")\n",
    "        else:\n",
    "            nu_industries += (demand_from_ads_vars[f'{product}_demand_from_ads_p{period}'] + \n",
    "                              demand_from_contracts_vars[f'{product}_contracted_demand_in_p{period}'] <=\n",
    "                              production_variables[f\"{product}_produced_in_plant_a_in_p{period}\"] + \n",
    "                              production_variables[f\"{product}_produced_in_plant_b_in_p{period}\"] + \n",
    "                              inventory_plant_a_vars[f\"{product}_inventoried_in_plant_a_in_p{period - 1}\"] + \n",
    "                              inventory_plant_b_vars[f\"{product}_inventoried_in_plant_b_in_p{period - 1}\"],\n",
    "                              f\"{product}_production_requirements_in_p{period}\")\n",
    "                              \n",
    "        "
   ]
  },
  {
   "cell_type": "markdown",
   "id": "714294a9",
   "metadata": {},
   "source": [
    "```python\n",
    "plant_a_rm_1_requirements = dict(zip(products, plant_a_rm_1_requirements_list))\n",
    "plant_a_rm_2_requirements = dict(zip(products, plant_a_rm_2_requirements_list))\n",
    "plant_b_rm_1_requirements = dict(zip(products, plant_b_rm_1_requirements_list))\n",
    "plant_b_rm_2_requirements = dict(zip(products, plant_b_rm_2_requirements_list))\n",
    "plant_a_labor_requirements = dict(zip(products, plant_a_labor_requirements_list))\n",
    "plant_b_labor_requirements = dict(zip(products, plant_b_labor_requirements_list))\n",
    "```"
   ]
  },
  {
   "cell_type": "markdown",
   "id": "795a9ca9",
   "metadata": {},
   "source": [
    "A\n",
    "* Each Widget requires 194 pounds of Raw Material 1, 8.6 pounds of Raw Material 2, and 9.5 hours of Labor.\n",
    "* Each Gadget requires 230 pounds of Raw Material 1 and 7.1 hours of Labor.\n",
    "* Each Flugel requires 178 pounds of Raw Material 1, 11.6 pounds of Raw Material 2, and 11.1 hours of Labor.\n",
    "\n",
    "B\n",
    "* Each Widget requires 188 pounds of Raw Material 1, 9.2 pounds of Raw Material 2, and 9.1 hours of Labor.\n",
    "* Each Gadget requires 225 pounds of Raw Material 1 and 7.8 hours of Labor.\n",
    "* Each Flugel requires 170 pounds of Raw Material 1, 10.8 pounds of Raw Material 2, and 10.6 hours of Labor."
   ]
  },
  {
   "cell_type": "code",
   "execution_count": 11,
   "id": "4b68e2a7",
   "metadata": {},
   "outputs": [],
   "source": [
    "# raw material consumption must be less than or equal to the production in a given period\n",
    "for period in periods:\n",
    "    ## A maximum of 70 tons of Raw Material 1 are available from a raw material vendor each period.\n",
    "    nu_industries += (lpSum([(production_variables[f\"{product}_produced_in_plant_a_in_p{period}\"] * \n",
    "                       plant_a_rm_1_requirements[product]) for product in products]) + \n",
    "                       lpSum([(production_variables[f\"{product}_produced_in_plant_b_in_p{period}\"] * \n",
    "                       plant_b_rm_1_requirements[product]) for product in products]) <= 70 * 2000,\n",
    "                      f\"Tons_of_Raw_Material_1_Available_Period_{period}\")\n",
    "    ## A maximum of 2.5 tons of Raw Material 1 are available from a raw material vendor each period.        \n",
    "    nu_industries += (lpSum([(production_variables[f\"{product}_produced_in_plant_a_in_p{period}\"] * \n",
    "               plant_a_rm_2_requirements[product]) for product in products]) + \n",
    "               lpSum([(production_variables[f\"{product}_produced_in_plant_b_in_p{period}\"] * \n",
    "               plant_b_rm_2_requirements[product]) for product in products]) <= 2.5 * 2000,\n",
    "              f\"Tons_of_Raw_Material_2_Available_Period_{period}\")"
   ]
  },
  {
   "cell_type": "code",
   "execution_count": null,
   "id": "6e2ebf71",
   "metadata": {},
   "outputs": [],
   "source": []
  },
  {
   "cell_type": "code",
   "execution_count": null,
   "id": "c80ecfd4",
   "metadata": {},
   "outputs": [],
   "source": []
  },
  {
   "cell_type": "code",
   "execution_count": 12,
   "id": "1e1db220",
   "metadata": {},
   "outputs": [
    {
     "data": {
      "text/plain": [
       "[_flugels_advertising_investment_p1,\n",
       " _flugels_advertising_investment_p2,\n",
       " _flugels_advertising_investment_p3,\n",
       " _flugels_advertising_investment_p4,\n",
       " _flugels_contracted_demand_in_p1,\n",
       " _flugels_contracted_demand_in_p2,\n",
       " _flugels_contracted_demand_in_p3,\n",
       " _flugels_contracted_demand_in_p4,\n",
       " _flugels_contracted_demand_in_p5,\n",
       " _flugels_demand_from_ads_p2,\n",
       " _flugels_demand_from_ads_p3,\n",
       " _flugels_demand_from_ads_p4,\n",
       " _flugels_demand_from_ads_p5,\n",
       " _flugels_inventoried_in_plant_a_in_p1,\n",
       " _flugels_inventoried_in_plant_a_in_p2,\n",
       " _flugels_inventoried_in_plant_a_in_p3,\n",
       " _flugels_inventoried_in_plant_a_in_p4,\n",
       " _flugels_inventoried_in_plant_b_in_p1,\n",
       " _flugels_inventoried_in_plant_b_in_p2,\n",
       " _flugels_inventoried_in_plant_b_in_p3,\n",
       " _flugels_inventoried_in_plant_b_in_p4,\n",
       " _flugels_produced_in_plant_a_in_p1,\n",
       " _flugels_produced_in_plant_a_in_p2,\n",
       " _flugels_produced_in_plant_a_in_p3,\n",
       " _flugels_produced_in_plant_a_in_p4,\n",
       " _flugels_produced_in_plant_a_in_p5,\n",
       " _flugels_produced_in_plant_b_in_p1,\n",
       " _flugels_produced_in_plant_b_in_p2,\n",
       " _flugels_produced_in_plant_b_in_p3,\n",
       " _flugels_produced_in_plant_b_in_p4,\n",
       " _flugels_produced_in_plant_b_in_p5,\n",
       " _gadgets_advertising_investment_p1,\n",
       " _gadgets_advertising_investment_p2,\n",
       " _gadgets_advertising_investment_p3,\n",
       " _gadgets_advertising_investment_p4,\n",
       " _gadgets_contracted_demand_in_p1,\n",
       " _gadgets_contracted_demand_in_p2,\n",
       " _gadgets_contracted_demand_in_p3,\n",
       " _gadgets_contracted_demand_in_p4,\n",
       " _gadgets_contracted_demand_in_p5,\n",
       " _gadgets_demand_from_ads_p2,\n",
       " _gadgets_demand_from_ads_p3,\n",
       " _gadgets_demand_from_ads_p4,\n",
       " _gadgets_demand_from_ads_p5,\n",
       " _gadgets_inventoried_in_plant_a_in_p1,\n",
       " _gadgets_inventoried_in_plant_a_in_p2,\n",
       " _gadgets_inventoried_in_plant_a_in_p3,\n",
       " _gadgets_inventoried_in_plant_a_in_p4,\n",
       " _gadgets_inventoried_in_plant_b_in_p1,\n",
       " _gadgets_inventoried_in_plant_b_in_p2,\n",
       " _gadgets_inventoried_in_plant_b_in_p3,\n",
       " _gadgets_inventoried_in_plant_b_in_p4,\n",
       " _gadgets_produced_in_plant_a_in_p1,\n",
       " _gadgets_produced_in_plant_a_in_p2,\n",
       " _gadgets_produced_in_plant_a_in_p3,\n",
       " _gadgets_produced_in_plant_a_in_p4,\n",
       " _gadgets_produced_in_plant_a_in_p5,\n",
       " _gadgets_produced_in_plant_b_in_p1,\n",
       " _gadgets_produced_in_plant_b_in_p2,\n",
       " _gadgets_produced_in_plant_b_in_p3,\n",
       " _gadgets_produced_in_plant_b_in_p4,\n",
       " _gadgets_produced_in_plant_b_in_p5,\n",
       " _widgets_advertising_investment_p1,\n",
       " _widgets_advertising_investment_p2,\n",
       " _widgets_advertising_investment_p3,\n",
       " _widgets_advertising_investment_p4,\n",
       " _widgets_contracted_demand_in_p1,\n",
       " _widgets_contracted_demand_in_p2,\n",
       " _widgets_contracted_demand_in_p3,\n",
       " _widgets_contracted_demand_in_p4,\n",
       " _widgets_contracted_demand_in_p5,\n",
       " _widgets_demand_from_ads_p2,\n",
       " _widgets_demand_from_ads_p3,\n",
       " _widgets_demand_from_ads_p4,\n",
       " _widgets_demand_from_ads_p5,\n",
       " _widgets_inventoried_in_plant_a_in_p1,\n",
       " _widgets_inventoried_in_plant_a_in_p2,\n",
       " _widgets_inventoried_in_plant_a_in_p3,\n",
       " _widgets_inventoried_in_plant_a_in_p4,\n",
       " _widgets_inventoried_in_plant_b_in_p1,\n",
       " _widgets_inventoried_in_plant_b_in_p2,\n",
       " _widgets_inventoried_in_plant_b_in_p3,\n",
       " _widgets_inventoried_in_plant_b_in_p4,\n",
       " _widgets_produced_in_plant_a_in_p1,\n",
       " _widgets_produced_in_plant_a_in_p2,\n",
       " _widgets_produced_in_plant_a_in_p3,\n",
       " _widgets_produced_in_plant_a_in_p4,\n",
       " _widgets_produced_in_plant_a_in_p5,\n",
       " _widgets_produced_in_plant_b_in_p1,\n",
       " _widgets_produced_in_plant_b_in_p2,\n",
       " _widgets_produced_in_plant_b_in_p3,\n",
       " _widgets_produced_in_plant_b_in_p4,\n",
       " _widgets_produced_in_plant_b_in_p5]"
      ]
     },
     "execution_count": 12,
     "metadata": {},
     "output_type": "execute_result"
    }
   ],
   "source": [
    "# The problem data is written to an .lp file\n",
    "nu_industries.writeLP(\"NU_Industries.lp\")"
   ]
  },
  {
   "cell_type": "code",
   "execution_count": null,
   "id": "66df899f",
   "metadata": {},
   "outputs": [],
   "source": []
  }
 ],
 "metadata": {
  "kernelspec": {
   "display_name": "Python 3 (ipykernel)",
   "language": "python",
   "name": "python3"
  },
  "language_info": {
   "codemirror_mode": {
    "name": "ipython",
    "version": 3
   },
   "file_extension": ".py",
   "mimetype": "text/x-python",
   "name": "python",
   "nbconvert_exporter": "python",
   "pygments_lexer": "ipython3",
   "version": "3.9.6"
  }
 },
 "nbformat": 4,
 "nbformat_minor": 5
}
