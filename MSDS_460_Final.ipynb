{
 "cells": [
  {
   "cell_type": "code",
   "execution_count": 1,
   "id": "e73e144d",
   "metadata": {},
   "outputs": [],
   "source": [
    "from pulp import LpVariable, LpProblem, LpMaximize, LpStatus, value, LpMinimize, GLPK"
   ]
  },
  {
   "cell_type": "markdown",
   "id": "485eddfd",
   "metadata": {},
   "source": [
    "\n",
    "\n",
    "__Maximize__ $$–4x_1 + 2x_2$$\n",
    "__Subject To__\n",
    "$$4x_1 + x_2 + x_3 = 20$$\n",
    "$$2x_1 – x_2 ≥ 6$$\n",
    "$$x_1 – x_2 + 5x_3 ≥ –5$$\n",
    "$$–3x_1 + 2x_2 + x_3 ≤ 4$$ \n",
    "\n",
    "$$x_1 ≤ 0, x_2 ≥ 0, x_3\\text{ unrestricted}$$\n"
   ]
  },
  {
   "cell_type": "code",
   "execution_count": 2,
   "id": "d2b01e1b",
   "metadata": {},
   "outputs": [
    {
     "name": "stdout",
     "output_type": "stream",
     "text": [
      "Status: Optimal\n",
      "Objective 32540.0\n",
      "cars = 88.0\n",
      "trucks = 27.6\n",
      "type_1_machines = 98.0\n",
      "\n"
     ]
    },
    {
     "name": "stderr",
     "output_type": "stream",
     "text": [
      "/Users/robords/.venv/msds460_final/lib/python3.9/site-packages/pulp/pulp.py:1352: UserWarning: Spaces are not permitted in the name. Converted to '_'\n",
      "  warnings.warn(\"Spaces are not permitted in the name. Converted to '_'\")\n"
     ]
    }
   ],
   "source": [
    "# Problem 2\n",
    "# define variables\n",
    "widget_ads_p_1 = LpVariable(\"widget_advertising_period_1\", 0, None)\n",
    "trucks = LpVariable(\"trucks\", 0, None)\n",
    "type_1_machines = LpVariable(\"type_1_machines\", 0, None)\n",
    "\n",
    "# defines the problem\n",
    "nu_industries = LpProblem(\"NU Industries\", LpMaximize)\n",
    "\n",
    "# define objective function - Maximize profit\n",
    "prob2 += 300*cars + 400*trucks - (type_1_machines*50)\n",
    "\n",
    "# define constraints\n",
    "prob2 += (.8*cars + trucks - type_1_machines <= 0, 'Cars and trucks take up type 1 machine time')\n",
    "prob2 += (type_1_machines <= 98, 'Carco can rent up to 98 Type 1 machines')\n",
    "prob2 += (.6*cars + .7*trucks<= 73, 'Carco now has 73 Type 2 machines')\n",
    "prob2 += (2*cars + 3*trucks <= 260, 'The company has 260 tons of steel available')\n",
    "prob2 += (cars >= 88, 'Marketing considerations dictate that at least 88 cars be produced')\n",
    "prob2 += (trucks >= 26, 'Marketing considerations dictate that at least 26 trucks be produced')\n",
    "\n",
    "# solve the problem\n",
    "prob2.writeLP(\"prob2.lp\")\n",
    "prob2.solve(GLPK(msg=0, options=['--ranges', 'homework_2_prob2.sen']))\n",
    "print (\"Status:\", LpStatus[prob2.status])\n",
    "\n",
    "# Note, we are only able to get sensitivity information because we are solving\n",
    "# as a linear program.  If we solved as an Integer Program, then no \n",
    "# sensitivity information would be available.\n",
    "print (\"Objective\", value(prob2.objective))\n",
    "for v in prob2.variables():\n",
    "    print(v.name, \"=\", v.varValue)\n",
    "print (\"\")\n"
   ]
  },
  {
   "cell_type": "code",
   "execution_count": null,
   "id": "a517ad4d",
   "metadata": {},
   "outputs": [],
   "source": []
  }
 ],
 "metadata": {
  "kernelspec": {
   "display_name": "Python 3 (ipykernel)",
   "language": "python",
   "name": "python3"
  },
  "language_info": {
   "codemirror_mode": {
    "name": "ipython",
    "version": 3
   },
   "file_extension": ".py",
   "mimetype": "text/x-python",
   "name": "python",
   "nbconvert_exporter": "python",
   "pygments_lexer": "ipython3",
   "version": "3.9.6"
  }
 },
 "nbformat": 4,
 "nbformat_minor": 5
}
