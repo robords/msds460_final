{
 "cells": [
  {
   "cell_type": "code",
   "execution_count": 1,
   "id": "e0dcf9b3",
   "metadata": {},
   "outputs": [],
   "source": [
    "from pulp import LpVariable, LpProblem, LpMaximize, LpStatus, value, LpMinimize, GLPK"
   ]
  },
  {
   "cell_type": "markdown",
   "id": "6a9e30de",
   "metadata": {},
   "source": [
    "\n",
    "\n",
    "__Maximize__ $$–4x_1 + 2x_2$$\n",
    "__Subject To__\n",
    "$$4x_1 + x_2 + x_3 = 20$$\n",
    "$$2x_1 – x_2 ≥ 6$$\n",
    "$$x_1 – x_2 + 5x_3 ≥ –5$$\n",
    "$$–3x_1 + 2x_2 + x_3 ≤ 4$$ \n",
    "\n",
    "$$x_1 ≤ 0, x_2 ≥ 0, x_3\\text{ unrestricted}$$\n",
    "\n",
    "\n",
    "Production Requirements:\n",
    "\n",
    "|Product|Period 1|Period 2|Period 3|Period 4|Period 5|\n",
    "|-------|--------|--------|--------|--------|--------|\n",
    "|Widgets|70      |125     |185     |190     |200     |\n",
    "|Gadgets|200     |300     |295     |245     |240     |\n",
    "|Flugels|140     |175     |205     |235     |230     |\n",
    "\n"
   ]
  },
  {
   "cell_type": "code",
   "execution_count": 20,
   "id": "73a9da0b",
   "metadata": {},
   "outputs": [],
   "source": [
    "# Creates a list of the Ingredients\n",
    "periods = list(range(1,6))\n",
    "products = ['widget', 'gadget', 'flugels']\n",
    "ad_costs_list = [160, 120, 180]\n",
    "\n",
    "ad_costs = dict(zip(products, ad_costs_list))"
   ]
  },
  {
   "cell_type": "code",
   "execution_count": 42,
   "id": "27db65bd",
   "metadata": {},
   "outputs": [],
   "source": [
    "# Final\n",
    "ads_variables = []\n",
    "product_variables = []\n",
    "# define variables\n",
    "\n",
    "for period in periods:\n",
    "    for product in products:\n",
    "        ads_variables.append(f\"{product}_advertising_investment_p{period}\")\n",
    "        product_variables.append(f\"{product}_produced_in_p{period}\")"
   ]
  },
  {
   "cell_type": "code",
   "execution_count": 43,
   "id": "bc0264e2",
   "metadata": {},
   "outputs": [
    {
     "data": {
      "text/plain": [
       "['widget_advertising_investment_p1',\n",
       " 'gadget_advertising_investment_p1',\n",
       " 'flugels_advertising_investment_p1',\n",
       " 'widget_advertising_investment_p2',\n",
       " 'gadget_advertising_investment_p2',\n",
       " 'flugels_advertising_investment_p2',\n",
       " 'widget_advertising_investment_p3',\n",
       " 'gadget_advertising_investment_p3',\n",
       " 'flugels_advertising_investment_p3',\n",
       " 'widget_advertising_investment_p4',\n",
       " 'gadget_advertising_investment_p4',\n",
       " 'flugels_advertising_investment_p4',\n",
       " 'widget_advertising_investment_p5',\n",
       " 'gadget_advertising_investment_p5',\n",
       " 'flugels_advertising_investment_p5']"
      ]
     },
     "execution_count": 43,
     "metadata": {},
     "output_type": "execute_result"
    }
   ],
   "source": [
    "ads_variables"
   ]
  },
  {
   "attachments": {},
   "cell_type": "markdown",
   "id": "a6dc0eeb",
   "metadata": {},
   "source": [
    "The M&F Department projects that each \\\\$160 invested in advertising Widgets in a particular period creates additional demand for one Widget in the next period. The corresponding values for Gadgets and Flugels are \\\\$120 and \\\\$180, respectively. However, the total advertising budget is limited to \\\\$70,000 for the entire planning horizon.\n",
    "\n",
    "Throughout the planning horizon, NU Industries will sell: \n",
    "* Widgets for \\\\$2490 \n",
    "* Gadgets for \\\\$1990 \n",
    "* Flugels for \\\\$2970. \n",
    "\n",
    "The products can be manufactured at either of NU's Manufacturing Plants.\n"
   ]
  },
  {
   "cell_type": "code",
   "execution_count": null,
   "id": "60f12d9c",
   "metadata": {},
   "outputs": [],
   "source": [
    "[ad_costs[i] * ingredient_vars[i] for product in products]"
   ]
  },
  {
   "cell_type": "code",
   "execution_count": 44,
   "id": "540f831f",
   "metadata": {},
   "outputs": [],
   "source": [
    "# A dictionary called 'ingredient_vars' is created to contain the referenced Variables\n",
    "advertising_vars = LpVariable.dicts(\"\", ads_variables, 0)\n",
    "product_vars = LpVariable.dicts(\"\", product_variables, 0)\n",
    "    \n",
    "    \n",
    "# defines the problem\n",
    "nu_industries = LpProblem(\"NU Industries\", LpMaximize)"
   ]
  },
  {
   "cell_type": "code",
   "execution_count": 45,
   "id": "67131b88",
   "metadata": {},
   "outputs": [
    {
     "data": {
      "text/plain": [
       "{'widget_advertising_investment_p1': _widget_advertising_investment_p1,\n",
       " 'gadget_advertising_investment_p1': _gadget_advertising_investment_p1,\n",
       " 'flugels_advertising_investment_p1': _flugels_advertising_investment_p1,\n",
       " 'widget_advertising_investment_p2': _widget_advertising_investment_p2,\n",
       " 'gadget_advertising_investment_p2': _gadget_advertising_investment_p2,\n",
       " 'flugels_advertising_investment_p2': _flugels_advertising_investment_p2,\n",
       " 'widget_advertising_investment_p3': _widget_advertising_investment_p3,\n",
       " 'gadget_advertising_investment_p3': _gadget_advertising_investment_p3,\n",
       " 'flugels_advertising_investment_p3': _flugels_advertising_investment_p3,\n",
       " 'widget_advertising_investment_p4': _widget_advertising_investment_p4,\n",
       " 'gadget_advertising_investment_p4': _gadget_advertising_investment_p4,\n",
       " 'flugels_advertising_investment_p4': _flugels_advertising_investment_p4,\n",
       " 'widget_advertising_investment_p5': _widget_advertising_investment_p5,\n",
       " 'gadget_advertising_investment_p5': _gadget_advertising_investment_p5,\n",
       " 'flugels_advertising_investment_p5': _flugels_advertising_investment_p5}"
      ]
     },
     "execution_count": 45,
     "metadata": {},
     "output_type": "execute_result"
    }
   ],
   "source": [
    "advertising_vars"
   ]
  },
  {
   "cell_type": "code",
   "execution_count": 39,
   "id": "510c3dd0",
   "metadata": {},
   "outputs": [
    {
     "name": "stderr",
     "output_type": "stream",
     "text": [
      "/Users/robords/.venv/msds460_final/lib/python3.9/site-packages/pulp/pulp.py:1704: UserWarning: Overwriting previously set objective.\n",
      "  warnings.warn(\"Overwriting previously set objective.\")\n"
     ]
    }
   ],
   "source": [
    "# Objective Function\n",
    "nu_industries += (\n",
    "(2490 * product_vars['widget_produced_in_period_1']) - (advertising_vars['widget_advertising_period_1']) + \n",
    "(2490 * (product_vars['widget_produced_in_period_2'] + advertising_vars['widget_advertising_period_1'])) - \n",
    "    (advertising_vars['widget_advertising_period_2'] * 160)\n",
    ")"
   ]
  },
  {
   "cell_type": "code",
   "execution_count": 40,
   "id": "4c70ca45",
   "metadata": {},
   "outputs": [
    {
     "data": {
      "text/plain": [
       "[_widget_advertising_period_1,\n",
       " _widget_advertising_period_2,\n",
       " _widget_produced_in_period_1,\n",
       " _widget_produced_in_period_2]"
      ]
     },
     "execution_count": 40,
     "metadata": {},
     "output_type": "execute_result"
    }
   ],
   "source": [
    "# The problem data is written to an .lp file\n",
    "nu_industries.writeLP(\"NU_Industries.lp\")"
   ]
  },
  {
   "cell_type": "code",
   "execution_count": 2,
   "id": "ad553e6f",
   "metadata": {},
   "outputs": [
    {
     "name": "stdout",
     "output_type": "stream",
     "text": [
      "Status: Optimal\n",
      "Objective 32540.0\n",
      "cars = 88.0\n",
      "trucks = 27.6\n",
      "type_1_machines = 98.0\n",
      "\n"
     ]
    },
    {
     "name": "stderr",
     "output_type": "stream",
     "text": [
      "/Users/robords/.venv/msds460_final/lib/python3.9/site-packages/pulp/pulp.py:1352: UserWarning: Spaces are not permitted in the name. Converted to '_'\n",
      "  warnings.warn(\"Spaces are not permitted in the name. Converted to '_'\")\n"
     ]
    }
   ],
   "source": [
    "# defines the problem\n",
    "nu_industries = LpProblem(\"NU Industries\", LpMaximize)\n",
    "\n",
    "# define objective function - Maximize profit\n",
    "prob2 += 300*cars + 400*trucks - (type_1_machines*50)\n",
    "\n",
    "# define constraints\n",
    "prob2 += (.8*cars + trucks - type_1_machines <= 0, 'Cars and trucks take up type 1 machine time')\n",
    "prob2 += (type_1_machines <= 98, 'Carco can rent up to 98 Type 1 machines')\n",
    "prob2 += (.6*cars + .7*trucks<= 73, 'Carco now has 73 Type 2 machines')\n",
    "prob2 += (2*cars + 3*trucks <= 260, 'The company has 260 tons of steel available')\n",
    "prob2 += (cars >= 88, 'Marketing considerations dictate that at least 88 cars be produced')\n",
    "prob2 += (trucks >= 26, 'Marketing considerations dictate that at least 26 trucks be produced')\n",
    "\n",
    "# solve the problem\n",
    "prob2.writeLP(\"prob2.lp\")\n",
    "prob2.solve(GLPK(msg=0, options=['--ranges', 'homework_2_prob2.sen']))\n",
    "print (\"Status:\", LpStatus[prob2.status])\n",
    "\n",
    "# Note, we are only able to get sensitivity information because we are solving\n",
    "# as a linear program.  If we solved as an Integer Program, then no \n",
    "# sensitivity information would be available.\n",
    "print (\"Objective\", value(prob2.objective))\n",
    "for v in prob2.variables():\n",
    "    print(v.name, \"=\", v.varValue)\n",
    "print (\"\")\n"
   ]
  },
  {
   "cell_type": "code",
   "execution_count": null,
   "id": "f8c1dadd",
   "metadata": {},
   "outputs": [],
   "source": []
  }
 ],
 "metadata": {
  "kernelspec": {
   "display_name": "Python 3 (ipykernel)",
   "language": "python",
   "name": "python3"
  },
  "language_info": {
   "codemirror_mode": {
    "name": "ipython",
    "version": 3
   },
   "file_extension": ".py",
   "mimetype": "text/x-python",
   "name": "python",
   "nbconvert_exporter": "python",
   "pygments_lexer": "ipython3",
   "version": "3.9.6"
  }
 },
 "nbformat": 4,
 "nbformat_minor": 5
}
