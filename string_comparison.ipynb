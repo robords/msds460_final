{
 "cells": [
  {
   "cell_type": "code",
   "execution_count": 9,
   "id": "99bb3628",
   "metadata": {},
   "outputs": [],
   "source": [
    "String_1 = \"2589.16*factoryA_flugels_1 + 2589.16*factoryA_flugels_2 + 2583.055*factoryA_flugels_3 + 2583.055*factoryA_flugels_4 + 2583.055*factoryA_flugels_5 + 1619.8*factoryA_gadgets_1 + 1619.8*factoryA_gadgets_2 + 1615.895*factoryA_gadgets_3 + 1615.895*factoryA_gadgets_4 + 1615.895*factoryA_gadgets_5 + 2113.91*factoryA_widgets_1 + 2113.91*factoryA_widgets_2 + 2108.685*factoryA_widgets_3 + 2108.685*factoryA_widgets_4 + 2108.685*factoryA_widgets_5 + 2803.185*factoryB_flugels_1 + 2803.185*factoryB_flugels_2 + 2791.525*factoryB_flugels_3 + 2791.525*factoryB_flugels_4 + 2791.525*factoryB_flugels_5 + 1885.86*factoryB_gadgets_1 + 1885.86*factoryB_gadgets_2 + 1877.28*factoryB_gadgets_3 + 1877.28*factoryB_gadgets_4 + 1877.28*factoryB_gadgets_5 + 2084.12*factoryB_widgets_1 + 2084.12*factoryB_widgets_2 + 2074.11*factoryB_widgets_3 + 2074.11*factoryB_widgets_4 + 2074.11*factoryB_widgets_5 + -180*marketing_flugels_1 + -180*marketing_flugels_2 + -180*marketing_flugels_3 + -180*marketing_flugels_4 + -120*marketing_gadgets_1 + -120*marketing_gadgets_2 + -120*marketing_gadgets_3 + -120*marketing_gadgets_4 + -160*marketing_widgets_1 + -160*marketing_widgets_2 + -160*marketing_widgets_3 + -160*marketing_widgets_4 + -5.5*overtime_factoryA_1 + -5.5*overtime_factoryA_2 + -5.775*overtime_factoryA_3 + -5.775*overtime_factoryA_4 + -5.775*overtime_factoryA_5 + -5.5*overtime_factoryB_1 + -5.5*overtime_factoryB_2 + -6.050000000000001*overtime_factoryB_3 + -6.050000000000001*overtime_factoryB_4 + -6.050000000000001*overtime_factoryB_5 + -6.5*storage_factoryA_flugels_1 + -6.5*storage_factoryA_flugels_2 + -6.5*storage_factoryA_flugels_3 + -6.5*storage_factoryA_flugels_4 + -6.5*storage_factoryA_flugels_5 + -5.5*storage_factoryA_gadgets_1 + -5.5*storage_factoryA_gadgets_2 + -5.5*storage_factoryA_gadgets_3 + -5.5*storage_factoryA_gadgets_4 + -5.5*storage_factoryA_gadgets_5 + -7.5*storage_factoryA_widgets_1 + -7.5*storage_factoryA_widgets_2 + -7.5*storage_factoryA_widgets_3 + -7.5*storage_factoryA_widgets_4 + -7.5*storage_factoryA_widgets_5 + -7.0*storage_factoryB_flugels_1 + -7.0*storage_factoryB_flugels_2 + -7.0*storage_factoryB_flugels_3 + -7.0*storage_factoryB_flugels_4 + -7.0*storage_factoryB_flugels_5 + -5.7*storage_factoryB_gadgets_1 + -5.7*storage_factoryB_gadgets_2 + -5.7*storage_factoryB_gadgets_3 + -5.7*storage_factoryB_gadgets_4 + -5.7*storage_factoryB_gadgets_5 + -7.8*storage_factoryB_widgets_1 + -7.8*storage_factoryB_widgets_2 + -7.8*storage_factoryB_widgets_3 + -7.8*storage_factoryB_widgets_4 + -7.8*storage_factoryB_widgets_5 + 0.0\"\n",
    "\n",
    "String_2 = \"2589.16*factoryA_flugels_1 + 2589.16*factoryA_flugels_2 + 2583.055*factoryA_flugels_3 + 2583.055*factoryA_flugels_4 + 2583.055*factoryA_flugels_5 + 1619.8*factoryA_gadgets_1 + 1619.8*factoryA_gadgets_2 + 1615.895*factoryA_gadgets_3 + 1615.895*factoryA_gadgets_4 + 1615.895*factoryA_gadgets_5 + 2113.91*factoryA_widgets_1 + 2113.91*factoryA_widgets_2 + 2108.685*factoryA_widgets_3 + 2108.685*factoryA_widgets_4 + 2108.685*factoryA_widgets_5 + 2803.185*factoryB_flugels_1 + 2803.185*factoryB_flugels_2 + 2791.525*factoryB_flugels_3 + 2791.525*factoryB_flugels_4 + 2791.525*factoryB_flugels_5 + 1885.86*factoryB_gadgets_1 + 1885.86*factoryB_gadgets_2 + 1877.28*factoryB_gadgets_3 + 1877.28*factoryB_gadgets_4 + 1877.28*factoryB_gadgets_5 + 2084.12*factoryB_widgets_1 + 2084.12*factoryB_widgets_2 + 2074.11*factoryB_widgets_3 + 2074.11*factoryB_widgets_4 + 2074.11*factoryB_widgets_5 + -180*marketing_flugels_1 + -180*marketing_flugels_2 + -180*marketing_flugels_3 + -180*marketing_flugels_4 + -120*marketing_gadgets_1 + -120*marketing_gadgets_2 + -120*marketing_gadgets_3 + -120*marketing_gadgets_4 + -160*marketing_widgets_1 + -160*marketing_widgets_2 + -160*marketing_widgets_3 + -160*marketing_widgets_4 + -5.5*overtime_factoryA_1 + -5.5*overtime_factoryA_2 + -5.775*overtime_factoryA_3 + -5.775*overtime_factoryA_4 + -5.775*overtime_factoryA_5 + -5.5*overtime_factoryB_1 + -5.5*overtime_factoryB_2 + -6.050000000000001*overtime_factoryB_3 + -6.050000000000001*overtime_factoryB_4 + -6.050000000000001*overtime_factoryB_5 + -6.5*storage_factoryA_flugels_1 + -6.5*storage_factoryA_flugels_2 + -6.5*storage_factoryA_flugels_3 + -6.5*storage_factoryA_flugels_4 + -6.5*storage_factoryA_flugels_5 + -5.5*storage_factoryA_gadgets_1 + -5.5*storage_factoryA_gadgets_2 + -5.5*storage_factoryA_gadgets_3 + -5.5*storage_factoryA_gadgets_4 + -5.5*storage_factoryA_gadgets_5 + -7.5*storage_factoryA_widgets_1 + -7.5*storage_factoryA_widgets_2 + -7.5*storage_factoryA_widgets_3 + -7.5*storage_factoryA_widgets_4 + -7.5*storage_factoryA_widgets_5 + -7.0*storage_factoryB_flugels_1 + -7.0*storage_factoryB_flugels_2 + -7.0*storage_factoryB_flugels_3 + -7.0*storage_factoryB_flugels_4 + -7.0*storage_factoryB_flugels_5 + -5.7*storage_factoryB_gadgets_1 + -5.7*storage_factoryB_gadgets_2 + -5.7*storage_factoryB_gadgets_3 + -5.7*storage_factoryB_gadgets_4 + -5.7*storage_factoryB_gadgets_5 + -7.8*storage_factoryB_widgets_1 + -7.8*storage_factoryB_widgets_2 + -7.8*storage_factoryB_widgets_3 + -7.8*storage_factoryB_widgets_4 + -7.8*storage_factoryB_widgets_5 + 0.0\""
   ]
  },
  {
   "cell_type": "code",
   "execution_count": 10,
   "id": "5b9ebc80",
   "metadata": {},
   "outputs": [
    {
     "name": "stdout",
     "output_type": "stream",
     "text": [
      "True\n"
     ]
    }
   ],
   "source": [
    "print(String_1 == String_2)"
   ]
  },
  {
   "cell_type": "code",
   "execution_count": 3,
   "id": "fa7a97de",
   "metadata": {},
   "outputs": [],
   "source": [
    "import difflib"
   ]
  },
  {
   "cell_type": "code",
   "execution_count": 4,
   "id": "3b075c91",
   "metadata": {},
   "outputs": [],
   "source": [
    "output_list = [li for li in difflib.ndiff(String_1, String_2) if li[0] != ' ']"
   ]
  },
  {
   "cell_type": "code",
   "execution_count": 5,
   "id": "cedd473e",
   "metadata": {},
   "outputs": [
    {
     "data": {
      "text/plain": [
       "['- \\xad', '+ -']"
      ]
     },
     "execution_count": 5,
     "metadata": {},
     "output_type": "execute_result"
    }
   ],
   "source": [
    "output_list"
   ]
  },
  {
   "cell_type": "code",
   "execution_count": 8,
   "id": "ffe7141a",
   "metadata": {},
   "outputs": [
    {
     "name": "stdout",
     "output_type": "stream",
     "text": [
      "Delete \"­\" from position 1206\n",
      "Add \"-\" to position 1207\n",
      "\n"
     ]
    }
   ],
   "source": [
    "#print('{} => {}'.format(String_1, String_2))  \n",
    "for i,s in enumerate(difflib.ndiff(String_1, String_2)):\n",
    "    if s[0]==' ': continue\n",
    "    elif s[0]=='-':\n",
    "        print(u'Delete \"{}\" from position {}'.format(s[-1],i))\n",
    "    elif s[0]=='+':\n",
    "        print(u'Add \"{}\" to position {}'.format(s[-1],i))    \n",
    "print()  "
   ]
  },
  {
   "cell_type": "code",
   "execution_count": null,
   "id": "69bb8873",
   "metadata": {},
   "outputs": [],
   "source": []
  }
 ],
 "metadata": {
  "kernelspec": {
   "display_name": "Python 3 (ipykernel)",
   "language": "python",
   "name": "python3"
  },
  "language_info": {
   "codemirror_mode": {
    "name": "ipython",
    "version": 3
   },
   "file_extension": ".py",
   "mimetype": "text/x-python",
   "name": "python",
   "nbconvert_exporter": "python",
   "pygments_lexer": "ipython3",
   "version": "3.9.6"
  }
 },
 "nbformat": 4,
 "nbformat_minor": 5
}
